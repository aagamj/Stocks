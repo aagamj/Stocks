{
  "nbformat": 4,
  "nbformat_minor": 0,
  "metadata": {
    "colab": {
      "name": "Untitled10.ipynb",
      "provenance": [],
      "authorship_tag": "ABX9TyMVghRuFDH35PPid4OCy7Op",
      "include_colab_link": true
    },
    "kernelspec": {
      "name": "python3",
      "display_name": "Python 3"
    },
    "language_info": {
      "name": "python"
    }
  },
  "cells": [
    {
      "cell_type": "markdown",
      "metadata": {
        "id": "view-in-github",
        "colab_type": "text"
      },
      "source": [
        "<a href=\"https://colab.research.google.com/github/aagamj/Stocks/blob/main/ML.ipynb\" target=\"_parent\"><img src=\"https://colab.research.google.com/assets/colab-badge.svg\" alt=\"Open In Colab\"/></a>"
      ]
    },
    {
      "cell_type": "code",
      "metadata": {
        "colab": {
          "base_uri": "https://localhost:8080/"
        },
        "id": "OYMznuWtCASf",
        "outputId": "ddb62cf2-f5c9-4088-fc16-52973931c826"
      },
      "source": [
        "!pip install mplfinance\n",
        "!pip install yfinance"
      ],
      "execution_count": 6,
      "outputs": [
        {
          "output_type": "stream",
          "name": "stdout",
          "text": [
            "Requirement already satisfied: mplfinance in /usr/local/lib/python3.7/dist-packages (0.12.7a17)\n",
            "Requirement already satisfied: pandas in /usr/local/lib/python3.7/dist-packages (from mplfinance) (1.1.5)\n",
            "Requirement already satisfied: matplotlib in /usr/local/lib/python3.7/dist-packages (from mplfinance) (3.2.2)\n",
            "Requirement already satisfied: python-dateutil>=2.1 in /usr/local/lib/python3.7/dist-packages (from matplotlib->mplfinance) (2.8.2)\n",
            "Requirement already satisfied: cycler>=0.10 in /usr/local/lib/python3.7/dist-packages (from matplotlib->mplfinance) (0.10.0)\n",
            "Requirement already satisfied: numpy>=1.11 in /usr/local/lib/python3.7/dist-packages (from matplotlib->mplfinance) (1.19.5)\n",
            "Requirement already satisfied: kiwisolver>=1.0.1 in /usr/local/lib/python3.7/dist-packages (from matplotlib->mplfinance) (1.3.2)\n",
            "Requirement already satisfied: pyparsing!=2.0.4,!=2.1.2,!=2.1.6,>=2.0.1 in /usr/local/lib/python3.7/dist-packages (from matplotlib->mplfinance) (2.4.7)\n",
            "Requirement already satisfied: six in /usr/local/lib/python3.7/dist-packages (from cycler>=0.10->matplotlib->mplfinance) (1.15.0)\n",
            "Requirement already satisfied: pytz>=2017.2 in /usr/local/lib/python3.7/dist-packages (from pandas->mplfinance) (2018.9)\n",
            "Collecting yfinance\n",
            "  Downloading yfinance-0.1.63.tar.gz (26 kB)\n",
            "Requirement already satisfied: pandas>=0.24 in /usr/local/lib/python3.7/dist-packages (from yfinance) (1.1.5)\n",
            "Requirement already satisfied: numpy>=1.15 in /usr/local/lib/python3.7/dist-packages (from yfinance) (1.19.5)\n",
            "Requirement already satisfied: requests>=2.20 in /usr/local/lib/python3.7/dist-packages (from yfinance) (2.23.0)\n",
            "Requirement already satisfied: multitasking>=0.0.7 in /usr/local/lib/python3.7/dist-packages (from yfinance) (0.0.9)\n",
            "Collecting lxml>=4.5.1\n",
            "  Downloading lxml-4.6.3-cp37-cp37m-manylinux2014_x86_64.whl (6.3 MB)\n",
            "\u001b[K     |████████████████████████████████| 6.3 MB 6.8 MB/s \n",
            "\u001b[?25hRequirement already satisfied: python-dateutil>=2.7.3 in /usr/local/lib/python3.7/dist-packages (from pandas>=0.24->yfinance) (2.8.2)\n",
            "Requirement already satisfied: pytz>=2017.2 in /usr/local/lib/python3.7/dist-packages (from pandas>=0.24->yfinance) (2018.9)\n",
            "Requirement already satisfied: six>=1.5 in /usr/local/lib/python3.7/dist-packages (from python-dateutil>=2.7.3->pandas>=0.24->yfinance) (1.15.0)\n",
            "Requirement already satisfied: chardet<4,>=3.0.2 in /usr/local/lib/python3.7/dist-packages (from requests>=2.20->yfinance) (3.0.4)\n",
            "Requirement already satisfied: certifi>=2017.4.17 in /usr/local/lib/python3.7/dist-packages (from requests>=2.20->yfinance) (2021.5.30)\n",
            "Requirement already satisfied: idna<3,>=2.5 in /usr/local/lib/python3.7/dist-packages (from requests>=2.20->yfinance) (2.10)\n",
            "Requirement already satisfied: urllib3!=1.25.0,!=1.25.1,<1.26,>=1.21.1 in /usr/local/lib/python3.7/dist-packages (from requests>=2.20->yfinance) (1.24.3)\n",
            "Building wheels for collected packages: yfinance\n",
            "  Building wheel for yfinance (setup.py) ... \u001b[?25l\u001b[?25hdone\n",
            "  Created wheel for yfinance: filename=yfinance-0.1.63-py2.py3-none-any.whl size=23918 sha256=e7567d818c86608e529ba205f8a3aa5f861a89b8c1e4de8b1982ea5f1d0d0c8f\n",
            "  Stored in directory: /root/.cache/pip/wheels/fe/87/8b/7ec24486e001d3926537f5f7801f57a74d181be25b11157983\n",
            "Successfully built yfinance\n",
            "Installing collected packages: lxml, yfinance\n",
            "  Attempting uninstall: lxml\n",
            "    Found existing installation: lxml 4.2.6\n",
            "    Uninstalling lxml-4.2.6:\n",
            "      Successfully uninstalled lxml-4.2.6\n",
            "Successfully installed lxml-4.6.3 yfinance-0.1.63\n"
          ]
        }
      ]
    },
    {
      "cell_type": "code",
      "metadata": {
        "colab": {
          "base_uri": "https://localhost:8080/",
          "height": 682
        },
        "id": "7dtxHMpwBlsQ",
        "outputId": "a05cb3db-5420-4706-fa72-2a12fb4a07dd"
      },
      "source": [
        "import datetime\n",
        "import pytz\n",
        "from sklearn.cluster import KMeans\n",
        "from matplotlib import pyplot as plt\n",
        "import matplotlib.ticker as mpticker\n",
        "import pandas\n",
        "import numpy\n",
        "from mplfinance.original_flavor import candlestick_ohlc\n",
        "\n",
        "import yfinance as yf\n",
        "yf.pdr_override()\n",
        "\n",
        "\n",
        "def get_optimum_clusters(df, saturation_point=0.05):\n",
        "    '''\n",
        "    :param df: dataframe\n",
        "    :param saturation_point: The amount of difference we are willing to detect\n",
        "    :return: clusters with optimum K centers\n",
        "    This method uses elbow method to find the optimum number of K clusters\n",
        "    We initialize different K-means with 1..10 centers and compare the inertias\n",
        "    If the difference is no more than saturation_point, we choose that as K and move on\n",
        "    '''\n",
        "\n",
        "    wcss = []\n",
        "    k_models = []\n",
        "\n",
        "    size = min(11, len(df.index))\n",
        "    for i in range(1, size):\n",
        "        kmeans = KMeans(n_clusters=i, init='k-means++', max_iter=300, n_init=10, random_state=0)\n",
        "        kmeans.fit(df)\n",
        "        wcss.append(kmeans.inertia_)\n",
        "        k_models.append(kmeans)\n",
        "\n",
        "    # Compare differences in inertias until it's no more than saturation_point\n",
        "    optimum_k = len(wcss)-1\n",
        "    for i in range(0, len(wcss)-1):\n",
        "        diff = abs(wcss[i+1] - wcss[i])\n",
        "        if diff < saturation_point:\n",
        "            optimum_k = i\n",
        "            break\n",
        "\n",
        "    print(\"Optimum K is \" + str(optimum_k + 1))\n",
        "    optimum_clusters = k_models[optimum_k]\n",
        "\n",
        "    return optimum_clusters\n",
        "\n",
        "\n",
        "def plot_stock_data(data):\n",
        "    fig, ax = plt.subplots()\n",
        "    ax1 = plt.subplot2grid((5,1), (0,0), rowspan=4)\n",
        "    ax2 = plt.subplot2grid((5,1), (4,0), sharex=ax1)\n",
        "\n",
        "    ax1.set_title(\"{} - {}\".format(symbol, start))\n",
        "    ax1.set_facecolor(\"#131722\")\n",
        "    ax1.xaxis.set_major_formatter(mpticker.FuncFormatter(mydate))\n",
        "\n",
        "    candlestick_ohlc(ax1, data.to_numpy(), width=8, colorup='#77d879', colordown='#db3f3f')\n",
        "\n",
        "    ax2.bar(data['Time'], data['Volume'], width=30)\n",
        "    ax2.xaxis.set_major_formatter(mpticker.FuncFormatter(mydate))\n",
        "    fig.subplots_adjust(hspace=0)\n",
        "    fig.autofmt_xdate()\n",
        "    return ax1\n",
        "\n",
        "\n",
        "def mydate(x,pos):\n",
        "    try:\n",
        "        return datetime.datetime.fromtimestamp(x, tz=est).strftime(date_format)\n",
        "    except IndexError:\n",
        "        return ''\n",
        "\n",
        "\n",
        "symbol = \"AAPL\"\n",
        "start = \"2021-10-11\"\n",
        "end = \"2021-10-12\"\n",
        "est = pytz.timezone('US/Eastern')\n",
        "date_format = \"%H:%M\"\n",
        "\n",
        "ticker = yf.Ticker(symbol)\n",
        "data = ticker.history(period=\"1y\", interval=\"1w\",start=start, end=end, prepost=False, actions=False)\n",
        "data = data[:60] #30 1M candles\n",
        "\n",
        "data[\"Time\"] = [d.timestamp() for d in data.index]\n",
        "data.Time = data.Time.tz_convert(est)\n",
        "data = data[[\"Time\", \"Open\", \"High\", \"Low\", \"Close\", \"Volume\"]]\n",
        "\n",
        "ax = plot_stock_data(data)\n",
        "\n",
        "lod, hod = 0, 0\n",
        "\n",
        "lows = pandas.DataFrame(data=data, index=data.index, columns=[\"Low\"])\n",
        "highs = pandas.DataFrame(data=data, index=data.index, columns=[\"High\"])\n",
        "\n",
        "low_clusters = get_optimum_clusters(lows)\n",
        "low_centers = low_clusters.cluster_centers_\n",
        "low_centers = numpy.sort(low_centers, axis=0)\n",
        "\n",
        "high_clusters = get_optimum_clusters(highs)\n",
        "high_centers = high_clusters.cluster_centers_\n",
        "high_centers = numpy.sort(high_centers, axis=0)\n",
        "\n",
        "print(data)\n",
        "print(low_centers)\n",
        "print(high_centers)\n",
        "\n",
        "for low in low_centers[:2]:\n",
        "    ax.axhline(low[0], color='yellow', ls='--')\n",
        "\n",
        "for high in high_centers[-1:]:\n",
        "    ax.axhline(high[0], color='orange', ls='--')\n",
        "\n",
        "plt.show()"
      ],
      "execution_count": 15,
      "outputs": [
        {
          "output_type": "stream",
          "name": "stdout",
          "text": [
            "- AAPL: Invalid input - interval=1w is not supported. Valid intervals: [1m, 2m, 5m, 15m, 30m, 60m, 90m, 1h, 1d, 5d, 1wk, 1mo, 3mo]\n",
            "Optimum K is 0\n"
          ]
        },
        {
          "output_type": "error",
          "ename": "IndexError",
          "evalue": "ignored",
          "traceback": [
            "\u001b[0;31m---------------------------------------------------------------------------\u001b[0m",
            "\u001b[0;31mIndexError\u001b[0m                                Traceback (most recent call last)",
            "\u001b[0;32m<ipython-input-15-3ac7712c6d5a>\u001b[0m in \u001b[0;36m<module>\u001b[0;34m()\u001b[0m\n\u001b[1;32m     92\u001b[0m \u001b[0mhighs\u001b[0m \u001b[0;34m=\u001b[0m \u001b[0mpandas\u001b[0m\u001b[0;34m.\u001b[0m\u001b[0mDataFrame\u001b[0m\u001b[0;34m(\u001b[0m\u001b[0mdata\u001b[0m\u001b[0;34m=\u001b[0m\u001b[0mdata\u001b[0m\u001b[0;34m,\u001b[0m \u001b[0mindex\u001b[0m\u001b[0;34m=\u001b[0m\u001b[0mdata\u001b[0m\u001b[0;34m.\u001b[0m\u001b[0mindex\u001b[0m\u001b[0;34m,\u001b[0m \u001b[0mcolumns\u001b[0m\u001b[0;34m=\u001b[0m\u001b[0;34m[\u001b[0m\u001b[0;34m\"High\"\u001b[0m\u001b[0;34m]\u001b[0m\u001b[0;34m)\u001b[0m\u001b[0;34m\u001b[0m\u001b[0;34m\u001b[0m\u001b[0m\n\u001b[1;32m     93\u001b[0m \u001b[0;34m\u001b[0m\u001b[0m\n\u001b[0;32m---> 94\u001b[0;31m \u001b[0mlow_clusters\u001b[0m \u001b[0;34m=\u001b[0m \u001b[0mget_optimum_clusters\u001b[0m\u001b[0;34m(\u001b[0m\u001b[0mlows\u001b[0m\u001b[0;34m)\u001b[0m\u001b[0;34m\u001b[0m\u001b[0;34m\u001b[0m\u001b[0m\n\u001b[0m\u001b[1;32m     95\u001b[0m \u001b[0mlow_centers\u001b[0m \u001b[0;34m=\u001b[0m \u001b[0mlow_clusters\u001b[0m\u001b[0;34m.\u001b[0m\u001b[0mcluster_centers_\u001b[0m\u001b[0;34m\u001b[0m\u001b[0;34m\u001b[0m\u001b[0m\n\u001b[1;32m     96\u001b[0m \u001b[0mlow_centers\u001b[0m \u001b[0;34m=\u001b[0m \u001b[0mnumpy\u001b[0m\u001b[0;34m.\u001b[0m\u001b[0msort\u001b[0m\u001b[0;34m(\u001b[0m\u001b[0mlow_centers\u001b[0m\u001b[0;34m,\u001b[0m \u001b[0maxis\u001b[0m\u001b[0;34m=\u001b[0m\u001b[0;36m0\u001b[0m\u001b[0;34m)\u001b[0m\u001b[0;34m\u001b[0m\u001b[0;34m\u001b[0m\u001b[0m\n",
            "\u001b[0;32m<ipython-input-15-3ac7712c6d5a>\u001b[0m in \u001b[0;36mget_optimum_clusters\u001b[0;34m(df, saturation_point)\u001b[0m\n\u001b[1;32m     41\u001b[0m \u001b[0;34m\u001b[0m\u001b[0m\n\u001b[1;32m     42\u001b[0m     \u001b[0mprint\u001b[0m\u001b[0;34m(\u001b[0m\u001b[0;34m\"Optimum K is \"\u001b[0m \u001b[0;34m+\u001b[0m \u001b[0mstr\u001b[0m\u001b[0;34m(\u001b[0m\u001b[0moptimum_k\u001b[0m \u001b[0;34m+\u001b[0m \u001b[0;36m1\u001b[0m\u001b[0;34m)\u001b[0m\u001b[0;34m)\u001b[0m\u001b[0;34m\u001b[0m\u001b[0;34m\u001b[0m\u001b[0m\n\u001b[0;32m---> 43\u001b[0;31m     \u001b[0moptimum_clusters\u001b[0m \u001b[0;34m=\u001b[0m \u001b[0mk_models\u001b[0m\u001b[0;34m[\u001b[0m\u001b[0moptimum_k\u001b[0m\u001b[0;34m]\u001b[0m\u001b[0;34m\u001b[0m\u001b[0;34m\u001b[0m\u001b[0m\n\u001b[0m\u001b[1;32m     44\u001b[0m \u001b[0;34m\u001b[0m\u001b[0m\n\u001b[1;32m     45\u001b[0m     \u001b[0;32mreturn\u001b[0m \u001b[0moptimum_clusters\u001b[0m\u001b[0;34m\u001b[0m\u001b[0;34m\u001b[0m\u001b[0m\n",
            "\u001b[0;31mIndexError\u001b[0m: list index out of range"
          ]
        },
        {
          "output_type": "display_data",
          "data": {
            "image/png": "[encoded data removed]",
            "text/plain": [
              "<Figure size 432x288 with 2 Axes>"
            ]
          },
          "metadata": {
            "needs_background": "light"
          }
        }
      ]
    },
    {
      "cell_type": "code",
      "metadata": {
        "id": "T_w94x1fCmhJ"
      },
      "source": [
        ""
      ],
      "execution_count": null,
      "outputs": []
    }
  ]
}